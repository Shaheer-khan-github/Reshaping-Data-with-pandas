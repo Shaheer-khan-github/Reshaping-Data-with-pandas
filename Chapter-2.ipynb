{
 "cells": [
  {
   "cell_type": "markdown",
   "metadata": {},
   "source": [
    "### Gothic times\n",
    "You have a new project! Your boss has asked you to perform an analysis with a dataset of books. You have several tasks to complete. Your first task is to analyze Gothic fiction books.\n",
    "\n",
    "The dataset books_gothic is in a wide format. Any analysis will require you to reshape the data into a long format. To that aim, you will melt your dataset. You will reshape the dataset using several variables as identifiers to decide which is the best format.\n",
    "\n",
    "The books_gothic dataset is available for you. Make sure to examine it in the console!"
   ]
  },
  {
   "cell_type": "markdown",
   "metadata": {},
   "source": [
    "i. Define a gothic_melted DataFrame by melting the books_gothic DataFrame, using only the title as an identifier variable."
   ]
  },
  {
   "cell_type": "code",
   "execution_count": null,
   "metadata": {},
   "outputs": [],
   "source": [
    "# Melt books_gothic using the title column as identifier \n",
    "gothic_melted = books_gothic.melt(id_vars='title')\n",
    "\n",
    "# Print gothic_melted\n",
    "print(gothic_melted)"
   ]
  },
  {
   "cell_type": "markdown",
   "metadata": {},
   "source": [
    "ii. Melt the books_gothic DataFrame, now using the title, authors, and publisher columns as identifier variables."
   ]
  },
  {
   "cell_type": "code",
   "execution_count": null,
   "metadata": {},
   "outputs": [],
   "source": [
    "# Melt books_gothic using the title, authors, and publisher columns as identifier\n",
    "print(books_gothic,'\\n')\n",
    "gothic_melted_new = books_gothic.melt(id_vars=['title','authors','publisher'])\n",
    "\n",
    "# Print gothic_melted_new\n",
    "print(gothic_melted_new)"
   ]
  },
  {
   "cell_type": "markdown",
   "metadata": {},
   "source": [
    "### Rating is not everything\n",
    "Your first exploration of the books_gothic dataset was successful. Now, your next task is to perform a more detailed analysis. You need to reshape your DataFrame again. This time, you don't want to use all of your variables.\n",
    "\n",
    "To that aim, you will melt your DataFrame, taking several approaches using different columns as identifiers and value variables.\n",
    "\n",
    "The same books_gothic dataset you used before is available for you. It contains data about the title, author, number_pages, rating, rating_count, and publisher of each book. Make sure to examine it in the console!"
   ]
  },
  {
   "cell_type": "markdown",
   "metadata": {},
   "source": [
    "i. Define a new DataFrame by melting the publisher column using the title and authors columns as identifier variables."
   ]
  },
  {
   "cell_type": "code",
   "execution_count": null,
   "metadata": {},
   "outputs": [],
   "source": [
    "# Melt publisher column using title and authors as identifiers\n",
    "publisher_melted = books_gothic.melt(id_vars=['title', 'authors'],value_vars='publisher')\n",
    "\n",
    "# Print publisher_melted\n",
    "print(publisher_melted)"
   ]
  },
  {
   "cell_type": "markdown",
   "metadata": {},
   "source": [
    "ii. Melt the rating and rating_count columns of books_gothic DataFrame using the title column as an identifier variable."
   ]
  },
  {
   "cell_type": "code",
   "execution_count": null,
   "metadata": {},
   "outputs": [],
   "source": [
    "# Melt rating and rating_count columns using the title as identifier\n",
    "rating_melted = books_gothic.melt(id_vars='title', \n",
    "                                  value_vars=['rating', 'rating_count'])\n",
    "\n",
    "# Print rating_melted\n",
    "print(rating_melted)"
   ]
  },
  {
   "cell_type": "markdown",
   "metadata": {},
   "source": [
    "iii. Melt the rating and rating_count columns of book_gothic using the title and authors columns as identifier variables."
   ]
  },
  {
   "cell_type": "code",
   "execution_count": null,
   "metadata": {},
   "outputs": [],
   "source": [
    "# Melt rating and rating_count columns using title and authors as identifier\n",
    "books_melted = books_gothic.melt(id_vars=['title','authors'], \n",
    "                                 value_vars=['rating','rating_count'])\n",
    "\n",
    "# Print books_melted\n",
    "print(books_melted)"
   ]
  },
  {
   "cell_type": "markdown",
   "metadata": {},
   "source": [
    "### How is Frankenstein, Dorian Gray?\n",
    "You are satisfied with the way you reshaped the books_gothic DataFrame, however, you would like to finish your work by naming the newly-created columns. This will help you clarify what the variables and values are.\n",
    "\n",
    "You remember that .melt() allows you to do that. In order to achieve your goal, you will reshape your DataFrame in three steps.\n",
    "\n",
    "The same books_gothic dataset you used before is available for you. It contains data about the title, author, number_pages, rating, rating_count, and publisher of each book. Make sure to examine it in the console!"
   ]
  },
  {
   "cell_type": "markdown",
   "metadata": {},
   "source": [
    "i. Define a new books_ratings DataFrame by melting the rating and rating_count columns using the title, authors, and publisher as identifier variables."
   ]
  },
  {
   "cell_type": "code",
   "execution_count": null,
   "metadata": {},
   "outputs": [],
   "source": [
    "# Melt the rating and rating_count using title, authors and publisher as identifiers\n",
    "books_ratings = books_gothic.melt(id_vars=['title','authors','publisher'],value_vars=['rating','rating_count'])\n",
    "\n",
    "# Print books_ratings\n",
    "print(books_ratings)"
   ]
  },
  {
   "cell_type": "markdown",
   "metadata": {},
   "source": [
    "ii. Inside the .melt() call, assign the name 'feature' to the column that contains the variable names."
   ]
  },
  {
   "cell_type": "code",
   "execution_count": null,
   "metadata": {},
   "outputs": [],
   "source": [
    "# Assign the name feature to the new variable column\n",
    "books_ratings = books_gothic.melt(id_vars=['title', 'authors', 'publisher'], \n",
    "                                  value_vars=['rating', 'rating_count'], \n",
    "                                  var_name='feature')\n",
    "\n",
    "# Print books_ratings\n",
    "print(books_ratings)"
   ]
  },
  {
   "cell_type": "markdown",
   "metadata": {},
   "source": [
    "iii. Inside the .melt() call, assign the name 'number' to the resulting value column."
   ]
  },
  {
   "cell_type": "code",
   "execution_count": null,
   "metadata": {},
   "outputs": [],
   "source": [
    "# Assign the name number to the new column containing the values\n",
    "books_ratings = books_gothic.melt(id_vars=['title', 'authors', 'publisher'], \n",
    "                                  value_vars=['rating', 'rating_count'], \n",
    "                                  var_name='feature', \n",
    "                                  value_name='number')\n",
    "\n",
    "# Print books_ratings\n",
    "print(books_ratings)"
   ]
  },
  {
   "cell_type": "markdown",
   "metadata": {},
   "source": [
    "### The golden age\n",
    "In this exercise, you'll continue working on the book project. Now, you'll analyze books from the Golden Age.\n",
    "\n",
    "Upon inspection, you discovered that the dataset golden_age needs reshaping. You noticed that some column names start with the same prefix (stub names) and identified other columns to use as unique IDs.\n",
    "\n",
    "For that reason, you'll reshape your DataFrame in several ways. Use the function wide_to_long() along with each instruction.\n",
    "\n",
    "The golden_age dataset is available for you. It contains the title, authors, and data about the universal identifier ISBN and prefix for countries of each book."
   ]
  },
  {
   "cell_type": "markdown",
   "metadata": {},
   "source": [
    "i. Set title as the unique index. Extract the prefix from isbn10 and isbn13. Name the new variable created version."
   ]
  },
  {
   "cell_type": "code",
   "execution_count": null,
   "metadata": {},
   "outputs": [],
   "source": [
    "# Reshape wide to long using title as index and version as new name, and extracting isbn prefix\n",
    "print(golden_age) \n",
    "isbn_long = pd.wide_to_long(golden_age, \n",
    "                    stubnames='isbn', \n",
    "                    i='title', \n",
    "                    j='version')\n",
    "\n",
    "# Print isbn_long\n",
    "print(isbn_long)"
   ]
  },
  {
   "cell_type": "markdown",
   "metadata": {},
   "source": [
    "ii. Set title and authors as the index. Get the prefix from prefix10 and prefix13. Name the new variable version."
   ]
  },
  {
   "cell_type": "code",
   "execution_count": null,
   "metadata": {},
   "outputs": [],
   "source": [
    "# Reshape wide to long using title and authors as index and version as new name, and prefix as wide column prefix\n",
    "print(golden_age)\n",
    "prefix_long = pd.wide_to_long(golden_age, \n",
    "                      stubnames='prefix', \n",
    "                      i=['title', 'authors'], \n",
    "                      j='version')\n",
    "\n",
    "# Print prefix_long\n",
    "print(prefix_long)"
   ]
  },
  {
   "cell_type": "markdown",
   "metadata": {},
   "source": [
    "iii. Set title and authors as unique indexes. Extract the prefixes isbn and prefix. Name the new variable version."
   ]
  },
  {
   "cell_type": "code",
   "execution_count": null,
   "metadata": {},
   "outputs": [],
   "source": [
    "# Reshape wide to long using title and authors as index and version as new name, and prefix and isbn as wide column prefixes\n",
    "print(golden_age)\n",
    "all_long = pd.wide_to_long(golden_age, \n",
    "                   stubnames=['isbn','prefix'], \n",
    "                   i=['title','authors'], \n",
    "                   j='version')\n",
    "\n",
    "# Print all_long\n",
    "print(all_long)"
   ]
  },
  {
   "cell_type": "markdown",
   "metadata": {},
   "source": [
    "### Decrypting the code\n",
    "You are doing a great job on the book project! Your boss encouraged you to do an analysis using books written by Dan Brown.\n",
    "\n",
    "You explored the dataset books_brown and it needs reshaping. Again, you identified several columns to use as unique IDs and realized something different about the columns to group. Their name starts with a prefix, but this time, you identified a suffix and a separation element.\n",
    "\n",
    "The books_brown dataset is available for you. It contains the title, authors, and data about language_code, language_name, publisher_code, and publisher_name of each book. Make sure to examine it in the console!"
   ]
  },
  {
   "cell_type": "markdown",
   "metadata": {},
   "source": [
    "i. Reshape books_brown from wide to long format, using the columns author and title as unique indexes. Name 'code' the new column created from the columns starting with language and publisher. Don't forget to examine the printed output."
   ]
  },
  {
   "cell_type": "code",
   "execution_count": null,
   "metadata": {},
   "outputs": [],
   "source": [
    "# Reshape using author and title as index, code as new name and getting the prefix language and publisher\n",
    "print(books_brown)\n",
    "the_code_long = pd.wide_to_long(books_brown,stubnames=['language','publisher'],i=['author','title'],j='code')\n",
    "\n",
    "# Print the_code_long\n",
    "print(the_code_long)"
   ]
  },
  {
   "cell_type": "markdown",
   "metadata": {},
   "source": [
    "ii. Inside the wide_to_long() call, specify an underscore as the separator between the variable names in the wide columns. Don't forget to examine the printed output."
   ]
  },
  {
   "cell_type": "code",
   "execution_count": null,
   "metadata": {},
   "outputs": [],
   "source": [
    "# Specify underscore as the character that separates the variable names\n",
    "the_code_long = pd.wide_to_long(books_brown, \n",
    "                                stubnames=['language', 'publisher'], \n",
    "                                i=['author', 'title'], \n",
    "                                j='code', sep='_')\n",
    "\n",
    "# Print the_code_long\n",
    "print(the_code_long)"
   ]
  },
  {
   "cell_type": "markdown",
   "metadata": {},
   "source": [
    "iii. Inside the wide_to_long() call, specify that the wide column names end in a word."
   ]
  },
  {
   "cell_type": "code",
   "execution_count": null,
   "metadata": {},
   "outputs": [],
   "source": [
    "# Specify that wide columns have a suffix containing words\n",
    "print(books_brown)\n",
    "the_code_long = pd.wide_to_long(books_brown, \n",
    "                                stubnames=['language', 'publisher'], \n",
    "                                i=['author', 'title'], \n",
    "                                j='code', \n",
    "                                sep='_', \n",
    "                                suffix='\\w+')\n",
    "\n",
    "# Print the_code_long\n",
    "print(the_code_long)"
   ]
  },
  {
   "cell_type": "markdown",
   "metadata": {},
   "source": [
    "### Time to read, Katniss!\n",
    "It's almost time to finish working for the day. But first, you would like to do an analysis for fun. You will analyze another book dataset, this time with the Hunger Games series.\n",
    "\n",
    "You explored the dataset books_hunger before reshaping it, but something was not right. The index of the DataFrame contains the title of the books. You know that you cannot reshape it in this format. If you do, you will lose valuable data, the title, so you'll need to make some changes before transforming the DataFrame.\n",
    "\n",
    "The books_hunger dataset is available for you. It contains the title, and data about language, publication date, publication number, and page number of each book."
   ]
  },
  {
   "cell_type": "markdown",
   "metadata": {},
   "source": [
    "Modify the books_hunger DataFrame by resetting the index without dropping it.\n",
    "Reshape books_hunger from wide to long format. Use the columns title and language as unique indexes. Name feature the new variable created from the columns that starts with publication and page. Those columns are separated by a blank space and end in a word."
   ]
  },
  {
   "cell_type": "code",
   "execution_count": null,
   "metadata": {},
   "outputs": [],
   "source": [
    "# Modify books_hunger by resetting the index without dropping it\n",
    "books_hunger.reset_index(drop=False, inplace=True)\n",
    "\n",
    "# Reshape using title and language as index, feature as new name, publication and page as prefix separated by space and ending in a word\n",
    "print(books_hunger)\n",
    "publication_features = pd.wide_to_long(books_hunger, \n",
    "                                       stubnames=['publication','page'], i=['title','language'],j='feature',sep=' ',suffix='\\w+')\n",
    "\n",
    "# Print publication_features\n",
    "print(publication_features)"
   ]
  },
  {
   "cell_type": "markdown",
   "metadata": {},
   "source": [
    "### Did you say dystopia?\n",
    "Another day at work, another day working with your book project! You are very excited because you have been making a lot of progress. You plan to work on a dataset about dystopian fiction books.\n",
    "\n",
    "But first, you need to do some string manipulations. You realize that the DataFrame index contains data about the title and the release year. You can't find a column with the author of the book, so you decide to pre-define a list of the writers. Then, you want to delete the year and replace it with the author.\n",
    "\n",
    "You decide that splitting the index and then concatenating it with the list is the best way to do it.\n",
    "\n",
    "The books_dys dataset and author_list are available for you. Make sure to examine it in the console!"
   ]
  },
  {
   "cell_type": "markdown",
   "metadata": {},
   "source": [
    "i. Split the string separated by a hyphen contained in the index of books_dys. Assign it to the index."
   ]
  },
  {
   "cell_type": "code",
   "execution_count": null,
   "metadata": {},
   "outputs": [],
   "source": [
    "# Split the index of books_dys by the hyphen \n",
    "print(books_dys)\n",
    "books_dys.index = books_dys.index.str.split('-')\n",
    "\n",
    "# Print books_dys\n",
    "print(books_dys)"
   ]
  },
  {
   "cell_type": "markdown",
   "metadata": {},
   "source": [
    "ii. Now that you've split the index, get the first element and assign it to the index of books_dys."
   ]
  },
  {
   "cell_type": "code",
   "execution_count": null,
   "metadata": {},
   "outputs": [],
   "source": [
    "# Get the first element after splitting the index of books_dys\n",
    "books_dys.index = books_dys.index.str.split('-').str.get(0)\n",
    "print(books_dys.index)\n",
    "# Print books_dys\n",
    "print(books_dys)"
   ]
  },
  {
   "cell_type": "markdown",
   "metadata": {},
   "source": [
    "iii. Concatenate the current index of books_dys with the pre-defined author_list, using a hyphen as a separating element. Assign it to the index."
   ]
  },
  {
   "cell_type": "code",
   "execution_count": null,
   "metadata": {},
   "outputs": [],
   "source": [
    "# Split by the hyphen the index of books_dys\n",
    "print(author_list)\n",
    "books_dys.index = books_dys.index.str.split('-').str.get(0)\n",
    "\n",
    "# Concatenate the index with the list author_list separated by a hyphen\n",
    "books_dys.index = books_dys.index.str.cat(author_list, sep='-')\n",
    "\n",
    "# Print books_dys\n",
    "print(books_dys)"
   ]
  },
  {
   "cell_type": "markdown",
   "metadata": {},
   "source": [
    "### What's your rating, Harry?\n",
    "You fix yourself a coffee and keep working on your book project. For your next task, you need to get an appropriate dataset containing ratings for all the Harry Potter books. You gathered data from Goodreads as well as from Amazon.\n",
    "\n",
    "You realized that you need a long format, but the dataset hp_books is in a wide format. You want to melt the data, but first, you need to manipulate some of the string columns.\n",
    "\n",
    "The full title is divided into two columns. The authors column contains info about the writer and the illustrator.\n",
    "\n",
    "Ratings for the Harry Potter books are in the DataFrame hp_books. Make sure to examine it in the console!"
   ]
  },
  {
   "cell_type": "markdown",
   "metadata": {},
   "source": [
    "i. Concatenate the title and subtitle columns into a column named full_title. Use the word 'and' separated by spaces as a separating element."
   ]
  },
  {
   "cell_type": "code",
   "execution_count": null,
   "metadata": {},
   "outputs": [],
   "source": [
    "# Concatenate the title and subtitle separated by \"and\" surrounded by spaces\n",
    "hp_books['full_title'] = hp_books['title'].str.cat(hp_books['subtitle'], sep =' and ') \n",
    "\n",
    "# Print hp_books\n",
    "print(hp_books)"
   ]
  },
  {
   "cell_type": "markdown",
   "metadata": {},
   "source": [
    "ii. Split the authors column into two columns called writer and illustrator. Use the slash character / as the delimiter."
   ]
  },
  {
   "cell_type": "code",
   "execution_count": null,
   "metadata": {},
   "outputs": [],
   "source": [
    "# Concatenate the title and subtitle separated by \"and\" surrounded by spaces\n",
    "hp_books['full_title'] = hp_books['title'].str.cat(hp_books['subtitle'], sep =\" and \") \n",
    "\n",
    "# Split the authors into writer and illustrator columns\n",
    "hp_books[['writer', 'illustrator']] = hp_books['authors'].str.split('/', expand=True) \n",
    "\n",
    "# Print hp_books\n",
    "print(hp_books)"
   ]
  },
  {
   "cell_type": "markdown",
   "metadata": {},
   "source": [
    "iii. Define a DataFrame hp_melt by melting the goodreads and amazon columns into a single column named source. Assign the name rating to the resulting value column. Use only the full title and the writer as identifier variables."
   ]
  },
  {
   "cell_type": "code",
   "execution_count": null,
   "metadata": {},
   "outputs": [],
   "source": [
    "# Concatenate the title and subtitle separated by \"and\" surrounded by spaces\n",
    "hp_books['full_title'] = hp_books['title'].str.cat(hp_books['subtitle'], sep =\" and \") \n",
    "\n",
    "# Split the authors into writer and illustrator columns\n",
    "hp_books[['writer', 'illustrator']] = hp_books['authors'].str.split('/', expand=True)\n",
    "\n",
    "# Melt goodreads and amazon columns into a single column\n",
    "hp_melt = hp_books.melt(id_vars=['full_title','writer'], \n",
    "                        var_name='source', \n",
    "                        value_vars=['goodreads','amazon'], \n",
    "                        value_name='rating')\n",
    "\n",
    "# Print hp_melt\n",
    "print(hp_melt)"
   ]
  },
  {
   "cell_type": "markdown",
   "metadata": {},
   "source": [
    "### Elementary, dear Watson!\n",
    "It's Friday, and you are about to finish working on your book project. For your last task, you will analyze data about Arthur Conan Doyle's books.\n",
    "\n",
    "You realize your dataset, books_sh, needs reshaping. You notice there are columns that can be grouped using a prefix. You identify the columns to use as unique IDs. However, some of these columns contain strings. They need some manipulation before applying a wide to long transformation. You decide some of the strings need splitting to make the DataFrame cleaner.\n",
    "\n",
    "The books_sh dataset is available for you. It contains the title, and data about version, number_pages, and number_ratings of each book."
   ]
  },
  {
   "cell_type": "markdown",
   "metadata": {},
   "source": [
    "i. Split the main_title column into two columns called title and subtitle. Use a colon as the delimiter."
   ]
  },
  {
   "cell_type": "code",
   "execution_count": null,
   "metadata": {},
   "outputs": [],
   "source": [
    "# Split main_title by a colon and assign it to two columns named title and subtitle \n",
    "books_sh[['title', 'subtitle']] = books_sh['main_title'].str.split(':', expand=True)\n",
    "\n",
    "# Print books_sh\n",
    "print(books_sh)"
   ]
  },
  {
   "cell_type": "markdown",
   "metadata": {},
   "source": [
    "ii. Split the string separated by a blank space contained in the version column. Assign the second element to a new column called volume."
   ]
  },
  {
   "cell_type": "code",
   "execution_count": null,
   "metadata": {},
   "outputs": [],
   "source": [
    "# Split main_title by a colon and assign it to two columns named title and subtitle \n",
    "books_sh[['title', 'subtitle']] = books_sh['main_title'].str.split(':', expand=True)\n",
    "\n",
    "# Split version by a space and assign the second element to the column named volume \n",
    "books_sh['volume'] = books_sh['version'].str.split(' ').str.get(1)\n",
    "\n",
    "# Print books_sh\n",
    "print(books_sh)"
   ]
  },
  {
   "cell_type": "markdown",
   "metadata": {},
   "source": [
    "iii. Drop the columns named main_title and version, modifying the books_sh DataFrame."
   ]
  },
  {
   "cell_type": "code",
   "execution_count": null,
   "metadata": {},
   "outputs": [],
   "source": [
    "# Split main_title by a colon and assign it to two columns named title and subtitle \n",
    "books_sh[['title', 'subtitle']] = books_sh['main_title'].str.split(':', expand=True)\n",
    "\n",
    "# Split version by a space and assign the second element to the column named volume\n",
    "books_sh['volume'] = books_sh['version'].str.split(' ').str.get(1)\n",
    "\n",
    "# Drop the main_title and version columns modifying books_sh\n",
    "books_sh.drop(['main_title', 'version'], axis=1, inplace=True)\n",
    "\n",
    "# Print books_sh\n",
    "print(books_sh)"
   ]
  },
  {
   "cell_type": "markdown",
   "metadata": {},
   "source": [
    "iv. Reshape from wide to long using the title, subtitle, and volume as unique indexes. Use the name feature for the new variable created from the columns that start with number. The columns are separated by an underscore and end in a word."
   ]
  },
  {
   "cell_type": "code",
   "execution_count": null,
   "metadata": {},
   "outputs": [],
   "source": [
    "# Split main_title by a colon and assign it to two columns named title and subtitle \n",
    "books_sh[['title', 'subtitle']] = books_sh['main_title'].str.split(':', expand=True)\n",
    "\n",
    "# Split version by a space and assign the second element to the column named volume \n",
    "books_sh['volume'] = books_sh['version'].str.split(' ').str.get(1)\n",
    "\n",
    "# Drop the main_title and version columns modifying books_sh\n",
    "books_sh.drop(['main_title', 'version'], axis=1, inplace=True)\n",
    "\n",
    "# Reshape using title, subtitle and volume as index, name feature the new variable from columns starting with number, separated by undescore and ending in words \n",
    "sh_long = pd.wide_to_long(books_sh, stubnames='number', i=['title','subtitle', 'volume'], j='feature', sep='_', suffix='\\w+')\n",
    "\n",
    "# Print sh_long \n",
    "print(sh_long)"
   ]
  }
 ],
 "metadata": {
  "language_info": {
   "name": "python"
  },
  "orig_nbformat": 4
 },
 "nbformat": 4,
 "nbformat_minor": 2
}
