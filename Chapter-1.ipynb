{
 "cells": [
  {
   "cell_type": "markdown",
   "metadata": {},
   "source": [
    "### Flipping players\n",
    "Congratulations! You got the data scientist job! In your first project, you will work with the fifa_players dataset. It contains data of the players included in the last version of the video game. Before you start to do any analysis, you need to clean and format your dataset.\n",
    "\n",
    "As a first step, you need to explore your dataset and reshape it using basic steps, such as setting different indices, filtering columns and flipping the DataFrame. You would like to see if that is enough for further analysis.\n",
    "\n",
    "The fifa_players dataset is available for you. The pandas module will be preloaded as pd in your session throughout all the exercises of the course."
   ]
  },
  {
   "cell_type": "markdown",
   "metadata": {},
   "source": [
    "i. Set the index of fifa_players to be the name column and assign it to fifa_transpose."
   ]
  },
  {
   "cell_type": "code",
   "execution_count": null,
   "metadata": {},
   "outputs": [],
   "source": [
    "# Set name as index\n",
    "fifa_transpose = fifa_players.set_index('name')\n",
    "\n",
    "# Print fifa_transpose\n",
    "print(fifa_transpose)"
   ]
  },
  {
   "cell_type": "markdown",
   "metadata": {},
   "source": [
    "ii. Modify the code to select only the columns height and weight from the fifa_players DataFrame."
   ]
  },
  {
   "cell_type": "code",
   "execution_count": null,
   "metadata": {},
   "outputs": [],
   "source": [
    "# Modify the DataFrame to keep only height and weight columns\n",
    "fifa_transpose = fifa_players.set_index('name')[['height','weight']]\n",
    "\n",
    "# Print fifa_transpose\n",
    "print(fifa_transpose)"
   ]
  },
  {
   "cell_type": "markdown",
   "metadata": {},
   "source": [
    "iii. Finally, transpose the fifa_players DataFrame so that the rows become columns and the columns become rows."
   ]
  },
  {
   "cell_type": "code",
   "execution_count": null,
   "metadata": {},
   "outputs": [],
   "source": [
    "# Change the DataFrame so rows become columns and vice versa\n",
    "fifa_transpose = fifa_players.set_index('name')[['height', 'weight']].transpose()\n",
    "\n",
    "# Print fifa_transpose\n",
    "print(fifa_transpose)"
   ]
  },
  {
   "cell_type": "markdown",
   "metadata": {},
   "source": [
    "### Dribbling the pivot method\n",
    "It's time to keep working with the fifa_players dataset. After you explored the dataset, you realized the dataset contains player scores on different movements: shooting, dribbling, and passing. There are attacking scores as well as overall scores.\n",
    "\n",
    "The goal of the project is to analyze the scores to create an optimized team, so you decide to explore which score is better. But the current data is in a long format. You'll need to to pivot your DataFrame in different ways to discover a pattern.\n",
    "\n",
    "The fifa_players dataset is available for you. Make sure to examine it in the console!"
   ]
  },
  {
   "cell_type": "markdown",
   "metadata": {},
   "source": [
    "i. Pivot fifa_players to get a DataFrame with overall scores indexed by name, and identified by movement in the columns."
   ]
  },
  {
   "cell_type": "code",
   "execution_count": null,
   "metadata": {},
   "outputs": [],
   "source": [
    "# Pivot fifa_players to get overall scores indexed by name and identified by movement\n",
    "print(fifa_players)\n",
    "fifa_overall = fifa_players.pivot(index='name', columns='movement', values='overall')\n",
    "\n",
    "# Print fifa_overall\n",
    "print(fifa_overall)"
   ]
  },
  {
   "cell_type": "markdown",
   "metadata": {},
   "source": [
    "ii. Pivot fifa_players to get a DataFrame with attacking scores indexed by name, and identified by movement in the columns."
   ]
  },
  {
   "cell_type": "code",
   "execution_count": null,
   "metadata": {},
   "outputs": [],
   "source": [
    "# Pivot fifa_players to get attacking scores indexed by name and identified by movement\n",
    "fifa_attacking = fifa_players.pivot(index='name',columns='movement',values='attacking')\n",
    "\n",
    "# Print fifa_attacking\n",
    "print(fifa_attacking)"
   ]
  },
  {
   "cell_type": "markdown",
   "metadata": {},
   "source": [
    "iii. Use .pivot() on fifa_players to get overall scores indexed by movement, and identified by name in the columns."
   ]
  },
  {
   "cell_type": "code",
   "execution_count": null,
   "metadata": {},
   "outputs": [],
   "source": [
    "# Use the pivot method to get overall scores indexed by movement and identified by name\n",
    "fifa_names = fifa_players.pivot(index='movement',columns='name',values='overall')\n",
    "\n",
    "# Print fifa_names\n",
    "print(fifa_names)"
   ]
  },
  {
   "cell_type": "markdown",
   "metadata": {},
   "source": [
    "### Offensive or defensive player?\n",
    "You're not convinced with your previous exploration - you've discovered patterns in the attacking and overall scores in fifa_players. You would like to compare both scores, so you would like to see both in the same DataFrame.\n",
    "\n",
    "To do this, you'll need a way to pivot more than one column. You remember you can achieve this goal in two different ways: you could pivot the DataFrame using the list with the two columns, or you could extend the .pivot() method to all the columns present in the dataset.\n",
    "\n",
    "The fifa_players dataset is available for you. Make sure to examine it in the console!"
   ]
  },
  {
   "cell_type": "markdown",
   "metadata": {},
   "source": [
    "i. Pivot fifa_players to get overall and attacking scores indexed by name, and identified by movement in the columns."
   ]
  },
  {
   "cell_type": "code",
   "execution_count": null,
   "metadata": {},
   "outputs": [],
   "source": [
    "# Pivot fifa_players to get overall and attacking scores indexed by name and identified by movement\n",
    "fifa_over_attack = fifa_players.pivot(index='name', \n",
    "                                     columns='movement', \n",
    "                                     values=['overall', 'attacking'])\n",
    "\n",
    "# Print fifa_over_attack\n",
    "print(fifa_over_attack)"
   ]
  },
  {
   "cell_type": "markdown",
   "metadata": {},
   "source": [
    "ii. Use the .pivot() method on fifa_players to get all the scores indexed by name,and identified by movement in the columns."
   ]
  },
  {
   "cell_type": "code",
   "execution_count": null,
   "metadata": {},
   "outputs": [],
   "source": [
    "# Use pivot method to get all the scores index by name and identified by movement\n",
    "fifa_all = fifa_players.pivot(index='name',columns='movement')\n",
    "\n",
    "# Print fifa_over_attack\n",
    "print(fifa_all)"
   ]
  },
  {
   "cell_type": "markdown",
   "metadata": {},
   "source": [
    "### Replay that last move!\n",
    "Amazing! You were able to pivot all columns of fifa_players. You saw that the overall and attacking scores are different and decided to extend your analysis to more players. However, you found an error.\n",
    "\n",
    "You suspect that there are different scores for the same index and column values. You remember that using the .pivot() method for all the columns does not work in that case.\n",
    "\n",
    "First, you decide to delete the problematic row so you can reshape the DataFrame afterwards.\n",
    "\n",
    "The fifa_players dataset is available for you. Make sure you examine the dataset into the console and notice the repeated rows."
   ]
  },
  {
   "cell_type": "markdown",
   "metadata": {},
   "source": [
    "i. Drop the fifth row of the fifa_players DataFrame."
   ]
  },
  {
   "cell_type": "code",
   "execution_count": null,
   "metadata": {},
   "outputs": [],
   "source": [
    "# Drop the fifth row to delete all repeated rows\n",
    "fifa_no_rep = fifa_players.drop(4, axis=0)\n",
    "\n",
    "# Print fifa_pivot\n",
    "print(fifa_no_rep)"
   ]
  },
  {
   "cell_type": "markdown",
   "metadata": {},
   "source": [
    "ii. Pivot fifa_players to get all the scores indexed by name, and identified by movement in the columns."
   ]
  },
  {
   "cell_type": "code",
   "execution_count": null,
   "metadata": {},
   "outputs": [],
   "source": [
    "# Drop the fifth row to delete all repeated rows\n",
    "fifa_no_rep = fifa_players.drop(4, axis=0)\n",
    "\n",
    "# Pivot fifa players to get all scores by name and movement\n",
    "fifa_pivot = fifa_no_rep.pivot(index='name',columns='movement') \n",
    "\n",
    "# Print fifa_pivot\n",
    "print(fifa_pivot)  "
   ]
  },
  {
   "cell_type": "markdown",
   "metadata": {},
   "source": [
    "### Reviewing the moves\n",
    "Wow! You have now learned about pivot tables. In the last analysis that you did, you encountered a DataFrame that had non-unique index/column pairs. In order to pivot your DataFrame, you wrote code to drop the last row, and then reshaped it.\n",
    "\n",
    "In this exercise, you will modify the code using pivot tables and compare it with your strategy of using the pivot method.\n",
    "\n",
    "The fifa_players dataset is available for you."
   ]
  },
  {
   "cell_type": "markdown",
   "metadata": {},
   "source": [
    "#### Discard the fifth row of the fifa_players DataFrame.\n",
    "Use .pivot() on fifa_players to get all the scores indexed by name, and identified by movement in the columns.\n",
    "Use a pivot table to show the mean of all scores by name and movement, setting name as index."
   ]
  },
  {
   "cell_type": "code",
   "execution_count": null,
   "metadata": {},
   "outputs": [],
   "source": [
    "# Discard the fifth row to delete all repeated rows\n",
    "fifa_drop = fifa_players.drop(4,axis=0)\n",
    "\n",
    "print(fifa_players)\n",
    "# Use pivot method to get all scores by name and movement\n",
    "fifa_pivot = fifa_drop.pivot(index='name',columns='movement') \n",
    "\n",
    "# Print fifa_pivot\n",
    "print(fifa_pivot)  \n",
    "\n",
    "# Use pivot table to get all scores by name and movement\n",
    "fifa_pivot_table = fifa_players.pivot_table(index='name', \n",
    "                                     columns='movement', \n",
    "                                     aggfunc='mean')\n",
    "# Print fifa_pivot_table\n",
    "print(fifa_pivot_table)"
   ]
  },
  {
   "cell_type": "markdown",
   "metadata": {},
   "source": [
    "### Exploring the big match\n",
    "Now, it's time to continue working on the fifa_players exploration. Your next task is to examine the characteristics of players belonging to different teams.\n",
    "\n",
    "Particularly, you are interested in players from two big rival teams: Barcelona and Real Madrid.\n",
    "\n",
    "You decide that .pivot_table() is the best tool to get your results since it's an easy way to generate a report. Also, it allows you to define aggregation functions and work with multiple indices.\n",
    "\n",
    "The fifa_players dataset is available for you. _Make sure you explore it. Check which data it contains from the players playing for each team."
   ]
  },
  {
   "cell_type": "markdown",
   "metadata": {},
   "source": [
    "i. Use a pivot table to show the mean age of players in fifa_players by club and nationality. Set nationality as the index."
   ]
  },
  {
   "cell_type": "code",
   "execution_count": null,
   "metadata": {},
   "outputs": [],
   "source": [
    "# Use pivot table to display mean age of players by club and nationality \n",
    "print(fifa_players)\n",
    "mean_age_fifa = fifa_players.pivot_table(index='nationality', \n",
    "                                  columns='club', \n",
    "                                  values='age', \n",
    "                                  aggfunc='mean')\n",
    "\n",
    "# Print mean_age_fifa\n",
    "print(mean_age_fifa)"
   ]
  },
  {
   "cell_type": "markdown",
   "metadata": {},
   "source": [
    "ii. Use a pivot table to show the maximum height of any player by club and nationality, setting nationality as the index."
   ]
  },
  {
   "cell_type": "code",
   "execution_count": null,
   "metadata": {},
   "outputs": [],
   "source": [
    "# Use pivot table to display max height of any player by club and nationality\n",
    "tall_players_fifa = fifa_players.pivot_table(index='nationality', \n",
    "                                     columns='club', \n",
    "                                      values='height', \n",
    "                                      aggfunc='max')\n",
    "\n",
    "# Print tall_players_fifa\n",
    "print(tall_players_fifa)"
   ]
  },
  {
   "cell_type": "markdown",
   "metadata": {},
   "source": [
    "iii. Define the DataFrame players_country that shows the player count by club and nationality and get the total count."
   ]
  },
  {
   "cell_type": "code",
   "execution_count": null,
   "metadata": {},
   "outputs": [],
   "source": [
    "# Use pivot table to show the count of players by club and nationality and the total count\n",
    "players_country = fifa_players.pivot_table(index='nationality', \n",
    "                                    columns='club', \n",
    "                                    values='id', \n",
    "                                    aggfunc='count', \n",
    "                                    margins=True)\n",
    "\n",
    "# Print players_country\n",
    "print(players_country)"
   ]
  },
  {
   "cell_type": "markdown",
   "metadata": {},
   "source": [
    "### The tallest and the heaviest\n",
    "You will continue your exploration of characteristics of players in fifa_players belonging to two teams: FC Barcelona and Real Madrid. As your last task, you are interested in exploring the maximum height and weight separated by teams and nationality. You will also compare two years, 2000 and 2010.\n",
    "\n",
    "You have two columns that you want to set as an index, so you will need to use pivot_table().\n",
    "\n",
    "The fifa_players dataset is available for you. It contains data about the club, nationality, height, weight, and year of the players playing for each team."
   ]
  },
  {
   "cell_type": "markdown",
   "metadata": {},
   "source": [
    "i. Use a pivot table to get all the values in the year column of the fifa_players DataFrame, setting nationality and club as index."
   ]
  },
  {
   "cell_type": "code",
   "execution_count": null,
   "metadata": {},
   "outputs": [],
   "source": [
    "# Define a pivot table to get the characteristic by nationality and club\n",
    "fifa_mean = fifa_players.pivot_table(index=['nationality', 'club'],columns='year')\n",
    "\n",
    "# Print fifa_mean\n",
    "print(fifa_mean)"
   ]
  },
  {
   "cell_type": "markdown",
   "metadata": {},
   "source": [
    "ii. Pass the appropriate function to .pivot_table() to show the maximum values of the year columns."
   ]
  },
  {
   "cell_type": "code",
   "execution_count": null,
   "metadata": {},
   "outputs": [],
   "source": [
    "# Set the appropriate argument to show the maximum values\n",
    "fifa_mean = fifa_players.pivot_table(index=['nationality', 'club'], \n",
    "                                     columns='year', \n",
    "                                     aggfunc='max')\n",
    "\n",
    "# Print fifa_mean\n",
    "print(fifa_mean)"
   ]
  },
  {
   "cell_type": "markdown",
   "metadata": {},
   "source": [
    "iii. Set the appropriate argument in .pivot_table() to get the maximum for each row and column."
   ]
  },
  {
   "cell_type": "code",
   "execution_count": null,
   "metadata": {},
   "outputs": [],
   "source": [
    "# Set the argument to get the maximum for each row and column\n",
    "fifa_mean = fifa_players.pivot_table(index=['nationality', 'club'], \n",
    "                                     columns='year', \n",
    "                                     aggfunc='max', \n",
    "                                     margins=True)\n",
    "\n",
    "# Print fifa_mean\n",
    "print(fifa_mean)"
   ]
  }
 ],
 "metadata": {
  "language_info": {
   "name": "python"
  },
  "orig_nbformat": 4
 },
 "nbformat": 4,
 "nbformat_minor": 2
}
