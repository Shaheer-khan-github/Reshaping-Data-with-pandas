{
  "nbformat": 4,
  "nbformat_minor": 0,
  "metadata": {
    "colab": {
      "name": "Chapter-3.ipynb",
      "provenance": []
    },
    "kernelspec": {
      "name": "python3",
      "display_name": "Python 3"
    },
    "language_info": {
      "name": "python"
    }
  },
  "cells": [
    {
      "cell_type": "markdown",
      "source": [
        "### **Stack the calls!**\n",
        "New week, new project! One of your clients, a telecommunication company, wants to know why its customers are leaving. You will perform an analysis to figure it out. First, you explored the dataset churn and realized some information is missing. The dataset contains data about the total number of calls and the minutes spent on the phone by different customers. However, the state and city they live in are not listed.\n",
        "\n",
        "You predefined an array with that data. You'd like to add it as an index in your DataFrame.\n",
        "\n",
        "The DataFrame churn is available for you. It contains data about area code, total_day_calls and total_day_minutes. Make sure to examine it in the console!"
      ],
      "metadata": {
        "id": "MZSp7Ltmwi7y"
      }
    },
    {
      "cell_type": "markdown",
      "source": [
        "i. Create a new multi-level index using the new_index list and the appropriate pandas method. Name the levels state and city respectively."
      ],
      "metadata": {
        "id": "bqL9F9h9wsHc"
      }
    },
    {
      "cell_type": "code",
      "source": [
        "# Predefined list to use as index\n",
        "new_index = [['California', 'California', 'New York', 'Ohio'], \n",
        "             ['Los Angeles', 'San Francisco', 'New York', 'Cleveland']]\n",
        "\n",
        "# Create a multi-level index using predefined new_index\n",
        "churn_new = pd.MultiIndex.from_arrays(new_index, names=['state', 'city'])\n",
        "\n",
        "# Print churn_new\n",
        "print(churn_new)"
      ],
      "metadata": {
        "id": "f_vaCiWYwrBN"
      },
      "execution_count": null,
      "outputs": []
    },
    {
      "cell_type": "markdown",
      "source": [
        "ii. Assign the multi-level index contained in churn_new as the index of the churn DataFrame."
      ],
      "metadata": {
        "id": "W6Nzl_vEwvvn"
      }
    },
    {
      "cell_type": "code",
      "execution_count": null,
      "metadata": {
        "id": "mcr9LG3ywTVp"
      },
      "outputs": [],
      "source": [
        "# Predefined list to use as index\n",
        "new_index = [['California', 'California', 'New York', 'Ohio'], \n",
        "             ['Los Angeles', 'San Francisco', 'New York', 'Cleveland']]\n",
        "\n",
        "# Create a multi-level index using predefined new_index\n",
        "print(churn)\n",
        "churn_new = pd.MultiIndex.from_arrays(new_index, names=['state', 'city'])\n",
        "\n",
        "# Assign the new index to the churn index\n",
        "churn.index = churn_new\n",
        "\n",
        "# Print churn\n",
        "print(churn)"
      ]
    },
    {
      "cell_type": "markdown",
      "source": [
        "iii. Reshape the churn DataFrame by stacking and assign it to churn_stack."
      ],
      "metadata": {
        "id": "jN3tbtwhw31w"
      }
    },
    {
      "cell_type": "code",
      "source": [
        "# Predefined list to use as index\n",
        "new_index = [['California', 'California', 'New York', 'Ohio'], \n",
        "             ['Los Angeles', 'San Francisco', 'New York', 'Cleveland']]\n",
        "\n",
        "# Create a multi-level index using predefined new_index\n",
        "churn_new = pd.MultiIndex.from_arrays(new_index, names=['state', 'city'])\n",
        "\n",
        "# Assign the new index to the churn index\n",
        "churn.index = churn_new\n",
        "\n",
        "# Reshape by stacking churn DataFrame\n",
        "churn_stack = churn.stack()\n",
        "\n",
        "# Print churn_stack\n",
        "print(churn_stack)"
      ],
      "metadata": {
        "id": "mGNW3wIiw4l6"
      },
      "execution_count": null,
      "outputs": []
    },
    {
      "cell_type": "markdown",
      "source": [
        "### **Phone directory index**\n",
        "\n",
        "After reshaping the dataset, you sent it to your colleagues and asked them to fill in some data. Now, they sent the new churn dataset back and you realized that its shape has changed.\n",
        "\n",
        "Before you go on, you need to do some reshaping again. The dataset contains a multi-level index in the columns. You'd like to have some columns set as the row index. Also, this time you will only stack some levels. You believe it will help you discover some patterns in the data.\n",
        "\n",
        "The DataFrame churn is available for you. It contains data about state, city, total_day_calls and total_day_minutes during day and night time. Make sure to examine it in the console!"
      ],
      "metadata": {
        "id": "ILN1F_d7xJVU"
      }
    },
    {
      "cell_type": "markdown",
      "source": [
        "i. Set the columns state and city as the index of churn, modifying the DataFrame in-place."
      ],
      "metadata": {
        "id": "mY6crS2axN3Y"
      }
    },
    {
      "cell_type": "code",
      "source": [
        "# Set state and city as index modifying the DataFrame\n",
        "churn.set_index(['state','city'], inplace=True)\n",
        "\n",
        "# Print churn\n",
        "print(churn)"
      ],
      "metadata": {
        "id": "VlIrct2dxK-_"
      },
      "execution_count": null,
      "outputs": []
    },
    {
      "cell_type": "markdown",
      "source": [
        "ii. Create a new churn_stack DataFrame by stacking the second column level of the churn DataFrame."
      ],
      "metadata": {
        "id": "d3GbumjpxQra"
      }
    },
    {
      "cell_type": "code",
      "source": [
        "# Set state and city as index modifying the DataFrame\n",
        "churn.set_index(['state', 'city'], inplace=True)\n",
        "\n",
        "# Reshape by stacking the second level\n",
        "churn_stack = churn.stack(level=1)\n",
        "\n",
        "# Print churn_stack\n",
        "print(churn_stack)"
      ],
      "metadata": {
        "id": "Ir_FzoIxxTxa"
      },
      "execution_count": null,
      "outputs": []
    },
    {
      "cell_type": "markdown",
      "source": [
        "### **Text me!**\n",
        "\n",
        "You are making progress in your customer's project. Now, you need to analyze a new dataset to find differences in the messages and gigabytes (GB) of data the customers use during the daytime and nighttime.\n",
        "\n",
        "To that aim, you will reshape your dataset churn using different levels. The advantage of your new dataset is that the column indices have names.\n",
        "\n",
        "The DataFrame churn is available for you. It contains data about state, city, text messages and total GB during day and night time."
      ],
      "metadata": {
        "id": "cFiQ9dP5xW5L"
      }
    },
    {
      "cell_type": "markdown",
      "source": [
        "i. Reshape the churn DataFrame by stacking the time column level. Assign the reshaped DataFrame to churn_time."
      ],
      "metadata": {
        "id": "VD7FSSBdxfKk"
      }
    },
    {
      "cell_type": "code",
      "source": [
        "# Stack churn by the time column level\n",
        "churn_time = churn.stack(level='time')\n",
        "\n",
        "# Print churn_time\n",
        "print(churn_time)"
      ],
      "metadata": {
        "id": "rQ04FmS7xb3X"
      },
      "execution_count": null,
      "outputs": []
    },
    {
      "cell_type": "markdown",
      "source": [
        "ii. Now, define a reshaped DataFrame called churn_feature by stacking the feature column level of the churn DataFrame."
      ],
      "metadata": {
        "id": "hHJMigmHxiNP"
      }
    },
    {
      "cell_type": "code",
      "source": [
        "# Stack churn by the feature column level\n",
        "churn_feature = churn.stack(level='feature')\n",
        "\n",
        "# Print churn_feature\n",
        "print(churn_feature)"
      ],
      "metadata": {
        "id": "i9udr_Jaxkf2"
      },
      "execution_count": null,
      "outputs": []
    },
    {
      "cell_type": "markdown",
      "source": [
        "### **International caller**\n",
        "\n",
        "You have a new task. You will analyze the pattern of customers on international and domestic calls.\n",
        "\n",
        "You explore the churn dataset, which contains a multi-level row index. Again, you will reshape the data, as you expect it will help you to do further analysis.\n",
        "\n",
        "The DataFrame churn is available for you. It contains data about minutes, calls, and charge for different times of the day, types of calls, and exited status. Make sure to examine it in the console!"
      ],
      "metadata": {
        "id": "tbDYlsLwxnBr"
      }
    },
    {
      "cell_type": "markdown",
      "source": [
        "i. Reshape the churn DataFrame by unstacking the last row level. Assign it to churn_unstack."
      ],
      "metadata": {
        "id": "iEo4ELAKxmyp"
      }
    },
    {
      "cell_type": "code",
      "source": [
        "# Reshape the churn DataFrame by unstacking\n",
        "print(churn)\n",
        "churn_unstack = churn.unstack()\n",
        "\n",
        "# Print churn_unstack\n",
        "print(churn_unstack)"
      ],
      "metadata": {
        "id": "K3Ts11P2yAGA"
      },
      "execution_count": null,
      "outputs": []
    },
    {
      "cell_type": "markdown",
      "source": [
        "ii. Create a reshaped DataFrame called churn_first by unstacking the first row level of churn."
      ],
      "metadata": {
        "id": "ZKxRyWxOyC4Z"
      }
    },
    {
      "cell_type": "code",
      "source": [
        "# Reshape churn by unstacking the first row level\n",
        "churn_first = churn.unstack(level=0)\n",
        "\n",
        "# Print churn_zero\n",
        "print(churn_first)"
      ],
      "metadata": {
        "id": "UIOTuFcsyFMA"
      },
      "execution_count": null,
      "outputs": []
    },
    {
      "cell_type": "markdown",
      "source": [
        "iii. Define a new DataFrame called churn_second by unstacking the second row level of churn."
      ],
      "metadata": {
        "id": "B6eCgeOEyH1j"
      }
    },
    {
      "cell_type": "code",
      "source": [
        "# Reshape churn by unstacking the second row level\n",
        "churn_second = churn.unstack(level=1)\n",
        "\n",
        "# Print churn_second\n",
        "print(churn_second)"
      ],
      "metadata": {
        "id": "Br8kYe-UyJ9r"
      },
      "execution_count": null,
      "outputs": []
    },
    {
      "cell_type": "markdown",
      "source": [
        "### **Call another time**\n",
        "\n",
        "You discover some patterns when you reshaped the DataFrame. Now, you want to unstack the DataFrame again. This time you will choose which level to unstack and reorganize your indices.\n",
        "\n",
        "The same churn DataFrame is available for you. It contains data about minutes, calls, and charge for different times of the day, types of calls, and exited status."
      ],
      "metadata": {
        "id": "Wpucxtu6yNwz"
      }
    },
    {
      "cell_type": "markdown",
      "source": [
        "i. Reshape the churn DataFrame by unstacking the time level. Assign it to churn_time."
      ],
      "metadata": {
        "id": "rcNHRZz5yNmT"
      }
    },
    {
      "cell_type": "code",
      "source": [
        "# Unstack the time level from churn\n",
        "churn_time = churn.unstack(level='time')\n",
        "\n",
        "# Print churn_time\n",
        "print(churn_time)"
      ],
      "metadata": {
        "id": "nvNBSKgByWQV"
      },
      "execution_count": null,
      "outputs": []
    },
    {
      "cell_type": "markdown",
      "source": [
        "ii. Now, sort the index of the resulting reshaped churn in descending order."
      ],
      "metadata": {
        "id": "EDmFDpHPyY4l"
      }
    },
    {
      "cell_type": "code",
      "source": [
        "# Sort the index in descending order\n",
        "churn_time = churn.unstack(level='time').sort_index(ascending=False)\n",
        "\n",
        "# Print churn_time\n",
        "print(churn_time)"
      ],
      "metadata": {
        "id": "60bH6BTeybfz"
      },
      "execution_count": null,
      "outputs": []
    },
    {
      "cell_type": "markdown",
      "source": [
        "### **Organizing your voicemail**\n",
        "\n",
        "You will perform one final task before moving to a new project. You will reshape the DataFrame churn again. This time, you'll reorganize a row index as a column index. After that, you will move a column index to a row index. To do this, you will first unstack the DataFrame, and then stack it.\n",
        "\n",
        "The same churn DataFrame is available for you. It contains data about minutes, calls, and charge for different times of the day, types of calls, and exited status. Make sure to examine it in the console!"
      ],
      "metadata": {
        "id": "olAoJ9Poyd-e"
      }
    },
    {
      "cell_type": "markdown",
      "source": [
        "Reshape churn by unstacking the type level. Assign it to churn_type.\n",
        "Stack the resulting DataFrame using the first column level."
      ],
      "metadata": {
        "id": "LLtvKwtZyl_-"
      }
    },
    {
      "cell_type": "code",
      "source": [
        "# Unstack churn by type level\n",
        "print(churn)\n",
        "churn_type = churn.unstack(level='type')\n",
        "print(churn_type)\n",
        "# Stack the resulting DataFrame using the first column level\n",
        "churn_final = churn_type.stack(level=0)\n",
        "\n",
        "# Print churn_type\n",
        "print(churn_final)"
      ],
      "metadata": {
        "id": "9mtjP9b9yjyq"
      },
      "execution_count": null,
      "outputs": []
    },
    {
      "cell_type": "markdown",
      "source": [
        "### **Swap your SIM card**\n",
        "Great job so far! You were able to reshape your dataset in several ways. Now it's time to go a step further and analyze the data to discover if a customer's cell phone plan is related to the customer leaving.\n",
        "\n",
        "You explore the churn dataset and notice that the row levels are not well organized. First, you want to rearrange your row indicesso it's easier to reshape your DataFrame.\n",
        "\n",
        "The churn DataFrame is available for you. It contains data about minutes, voicemail, and data plans for different years. The data is indexed by state, city, and exited status. Make sure to examine it in the console!"
      ],
      "metadata": {
        "id": "VqvpOwFKyovM"
      }
    },
    {
      "cell_type": "markdown",
      "source": [
        "i. Switch the first and the third row index levels of churn. Assign it to churn_swap."
      ],
      "metadata": {
        "id": "ThPCXzw-yyVR"
      }
    },
    {
      "cell_type": "code",
      "source": [
        "# Switch the first and third row index levels in churn\n",
        "print(churn)\n",
        "churn_swap = churn.swaplevel(0,2)\n",
        "\n",
        "# Print churn_swap\n",
        "print(churn_swap)"
      ],
      "metadata": {
        "id": "KTUBfFm6yvv1"
      },
      "execution_count": null,
      "outputs": []
    },
    {
      "cell_type": "markdown",
      "source": [
        "ii. Reshape the churn DataFrame by unstacking the last level. Assign it to churn_unstack."
      ],
      "metadata": {
        "id": "iYfOW3fDy2JO"
      }
    },
    {
      "cell_type": "code",
      "source": [
        "# Switch the first and third row index levels in churn\n",
        "churn_swap = churn.swaplevel(0, 2)\n",
        "\n",
        "# Reshape by unstacking the last row level \n",
        "churn_unstack = churn_swap.unstack(-1)\n",
        "\n",
        "# Print churn_unstack\n",
        "print(churn_unstack)"
      ],
      "metadata": {
        "id": "y7PobefNy4IB"
      },
      "execution_count": null,
      "outputs": []
    },
    {
      "cell_type": "markdown",
      "source": [
        "### **Two many calls**\n",
        "Your last analysis was successful, but you still have some questions to answer. You are not satisfied with the organization of the data in your DataFrame.\n",
        "\n",
        "For that reason, you plan on switching and rearranging row and column indices by chaining the stacking and unstacking processes. Also, you would like to rearrange several levels at the same time.\n",
        "\n",
        "The same churn DataFrame is available for you. It contains data about minutes, voicemail, and data plans for different years. The data is indexed by state, city, and exited status."
      ],
      "metadata": {
        "id": "B8-_wNpry6vr"
      }
    },
    {
      "cell_type": "markdown",
      "source": [
        "i. Create a new DataFrame called churn_unstack by unstacking the first and second row levels of the DataFrame churn."
      ],
      "metadata": {
        "id": "FC_kOmRszBQk"
      }
    },
    {
      "cell_type": "code",
      "source": [
        "# Unstack the first and second row level of churn\n",
        "print('\\n',churn)\n",
        "churn_unstack = churn.unstack(level=[0, 1])\n",
        "\n",
        "# Print churn_unstack\n",
        "print(churn_unstack)"
      ],
      "metadata": {
        "id": "gLuDhffIy-9y"
      },
      "execution_count": null,
      "outputs": []
    },
    {
      "cell_type": "markdown",
      "source": [
        "ii. Stack the resulting DataFrame using the plan and year column levels in that order. Assign it to churn_py."
      ],
      "metadata": {
        "id": "e0y3uXSJzEFz"
      }
    },
    {
      "cell_type": "code",
      "source": [
        "# Unstack the first and second row level of churn\n",
        "churn_unstack = churn.unstack(level=[0, 1])\n",
        "\n",
        "# Stack the resulting DataFrame using plan and year\n",
        "churn_py = churn_unstack.stack(['plan','year'])\n",
        "\n",
        "# Print churn_py\n",
        "print(churn_py)"
      ],
      "metadata": {
        "id": "6oOKPYn0zEsq"
      },
      "execution_count": null,
      "outputs": []
    },
    {
      "cell_type": "markdown",
      "source": [
        "iii. Switch the first and second column levels in the resulting DataFrame. Assign it to churn_switch."
      ],
      "metadata": {
        "id": "CPXnRNIqzKHu"
      }
    },
    {
      "cell_type": "code",
      "source": [
        "# Unstack the first and second row level of churn\n",
        "churn_unstack = churn.unstack(level=[0, 1])\n",
        "\n",
        "# Stack the resulting DataFrame using plan and year\n",
        "churn_py = churn_unstack.stack(['plan', 'year'])\n",
        "print(churn_py)\n",
        "# Switch the first and second column levels\n",
        "churn_switch = churn_py.swaplevel(0,1, axis=1)\n",
        "\n",
        "# Print churn_switch\n",
        "print(churn_switch)"
      ],
      "metadata": {
        "id": "1qcZmElXzMrp"
      },
      "execution_count": null,
      "outputs": []
    },
    {
      "cell_type": "markdown",
      "source": [
        "### **A missed phone call**\n",
        "You finished reshaping your churn dataset in the previous exercises. Now, it is ready to be used. You remember that something caught your attention. You are sure you saw a clear pattern in the data.\n",
        "\n",
        "Before you fit a classification model, you decide to do something simpler. You want to see what else you can learn from the data. You will reshape your data by unstacking levels, but you know this process will generate missing data that you need to handle.\n",
        "\n",
        "The churn DataFrame contains different features of customers located in Los Angeles and New York, and is available for you. Make sure to examine it in the console!"
      ],
      "metadata": {
        "id": "RL1qyN07zRsF"
      }
    },
    {
      "cell_type": "markdown",
      "source": [
        "Reshape the churn DataFrame by unstacking the level named churn, filling the missing values with zero.\n",
        "Sort the churn DataFrame by the voice_mail_plan column in descending order, then by international_plan column in ascending order.\n",
        "Print the final churn_sorted DataFrame."
      ],
      "metadata": {
        "id": "zc0mCOZLzb77"
      }
    },
    {
      "cell_type": "code",
      "source": [
        "# Unstack churn level and fill missing values with zero\n",
        "print(churn)\n",
        "churn = churn.unstack(level='churn', fill_value=0)\n",
        "print(churn)\n",
        "# Sort by descending voice mail plan and ascending international plan\n",
        "churn_sorted = churn.sort_index(level=['voice_mail_plan', 'international_plan'],ascending=[False, True])\n",
        "\n",
        "# Print final DataFrame and observe pattern\n",
        "print(churn_sorted)"
      ],
      "metadata": {
        "id": "gkFXFO6ezUCv"
      },
      "execution_count": null,
      "outputs": []
    },
    {
      "cell_type": "markdown",
      "source": [
        "### **Don't drop the stack**\n",
        "It's almost time to go home, but first, you need to finish your last task. You have a small dataset containing the total number of calls made by customers.\n",
        "\n",
        "To perform your analysis, you need to reshape your churn data by stacking different levels. You know this process will generate missing data. You want to check if it is worth keeping the rows that contain all missing values, or if it's better to drop that information.\n",
        "\n",
        "The churn DataFrame is available for you."
      ],
      "metadata": {
        "id": "XSQbby6bzjzT"
      }
    },
    {
      "cell_type": "markdown",
      "source": [
        "i. Reshape the churn DataFrame by stacking the type level. Then, fill the missing values generated with the value zero."
      ],
      "metadata": {
        "id": "z2yrCZbezoOW"
      }
    },
    {
      "cell_type": "code",
      "source": [
        "# Stack the level type from churn\n",
        "churn_stack = churn.stack(level='type')\n",
        "\n",
        "# Fill the resulting missing values with zero \n",
        "churn_fill = churn_stack.fillna(0)\n",
        "\n",
        "# Print churn_fill\n",
        "print(churn_fill)"
      ],
      "metadata": {
        "id": "wLaM6kfwzl69"
      },
      "execution_count": null,
      "outputs": []
    },
    {
      "cell_type": "markdown",
      "source": [
        "ii. Stack the scope level of churn without dropping the rows with missing values. Then, fill the missing values with zero."
      ],
      "metadata": {
        "id": "Oec-Qx_fzrAj"
      }
    },
    {
      "cell_type": "code",
      "source": [
        "# Stack the level scope without dropping rows with missing values\n",
        "churn_stack = churn.stack(dropna=False,level='scope')\n",
        "\n",
        "# Fill the resulting missing values with zero\n",
        "churn_fill = churn_stack.fillna(0)\n",
        "\n",
        "# Print churn_fill\n",
        "print(churn_fill)"
      ],
      "metadata": {
        "id": "ZFNukfM2zufY"
      },
      "execution_count": null,
      "outputs": []
    }
  ]
}